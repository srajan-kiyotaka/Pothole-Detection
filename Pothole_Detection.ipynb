{
  "nbformat": 4,
  "nbformat_minor": 0,
  "metadata": {
    "colab": {
      "name": "Pothole_Detection",
      "provenance": [],
      "collapsed_sections": []
    },
    "kernelspec": {
      "name": "python3",
      "display_name": "Python 3"
    },
    "language_info": {
      "name": "python"
    },
    "accelerator": "TPU",
    "gpuClass": "standard"
  },
  "cells": [
    {
      "cell_type": "code",
      "execution_count": 1,
      "metadata": {
        "colab": {
          "base_uri": "https://localhost:8080/"
        },
        "id": "OVNTgKpZr8LA",
        "outputId": "b70d2ea6-61c9-424c-8c5e-066206e53ab5"
      },
      "outputs": [
        {
          "output_type": "stream",
          "name": "stdout",
          "text": [
            "fatal: destination path 'Pothole-Detection' already exists and is not an empty directory.\n"
          ]
        }
      ],
      "source": [
        "!git clone \"https://github.com/srajan-kiyotaka/Pothole-Detection.git\" "
      ]
    },
    {
      "cell_type": "code",
      "source": [
        "# Importing the csv file\n",
        "\n",
        "import pandas as pd\n",
        "\n",
        "features = pd.read_csv(r\"/content/Pothole-Detection/Dataset_Info.csv\")\n",
        "\n",
        "features.head(10)"
      ],
      "metadata": {
        "id": "z9QvRrgEm7Fv",
        "colab": {
          "base_uri": "https://localhost:8080/",
          "height": 363
        },
        "outputId": "567df9d9-6549-44b5-cc9d-84f5e7007f35"
      },
      "execution_count": 2,
      "outputs": [
        {
          "output_type": "execute_result",
          "data": {
            "text/plain": [
              "              Image ID  Pothole  Number of Potholes Level  Unnamed: 4\n",
              "0   pothole_image_1299        1                   3     B         NaN\n",
              "1  pothole_image_10064        1                   1     A         NaN\n",
              "2  pothole_image_10079        1                   1     A         NaN\n",
              "3  pothole_image_10084        1                   1     A         NaN\n",
              "4  pothole_image_10087        1                   2     A         NaN\n",
              "5  pothole_image_10110        1                   1     A         NaN\n",
              "6  pothole_image_10119        1                   1     A         NaN\n",
              "7  pothole_image_10120        1                   1     A         NaN\n",
              "8  pothole_image_10135        1                   1     A         NaN\n",
              "9  pothole_image_10139        1                   1     A         NaN"
            ],
            "text/html": [
              "\n",
              "  <div id=\"df-709267da-5f9a-441d-8f43-19bb3a09c025\">\n",
              "    <div class=\"colab-df-container\">\n",
              "      <div>\n",
              "<style scoped>\n",
              "    .dataframe tbody tr th:only-of-type {\n",
              "        vertical-align: middle;\n",
              "    }\n",
              "\n",
              "    .dataframe tbody tr th {\n",
              "        vertical-align: top;\n",
              "    }\n",
              "\n",
              "    .dataframe thead th {\n",
              "        text-align: right;\n",
              "    }\n",
              "</style>\n",
              "<table border=\"1\" class=\"dataframe\">\n",
              "  <thead>\n",
              "    <tr style=\"text-align: right;\">\n",
              "      <th></th>\n",
              "      <th>Image ID</th>\n",
              "      <th>Pothole</th>\n",
              "      <th>Number of Potholes</th>\n",
              "      <th>Level</th>\n",
              "      <th>Unnamed: 4</th>\n",
              "    </tr>\n",
              "  </thead>\n",
              "  <tbody>\n",
              "    <tr>\n",
              "      <th>0</th>\n",
              "      <td>pothole_image_1299</td>\n",
              "      <td>1</td>\n",
              "      <td>3</td>\n",
              "      <td>B</td>\n",
              "      <td>NaN</td>\n",
              "    </tr>\n",
              "    <tr>\n",
              "      <th>1</th>\n",
              "      <td>pothole_image_10064</td>\n",
              "      <td>1</td>\n",
              "      <td>1</td>\n",
              "      <td>A</td>\n",
              "      <td>NaN</td>\n",
              "    </tr>\n",
              "    <tr>\n",
              "      <th>2</th>\n",
              "      <td>pothole_image_10079</td>\n",
              "      <td>1</td>\n",
              "      <td>1</td>\n",
              "      <td>A</td>\n",
              "      <td>NaN</td>\n",
              "    </tr>\n",
              "    <tr>\n",
              "      <th>3</th>\n",
              "      <td>pothole_image_10084</td>\n",
              "      <td>1</td>\n",
              "      <td>1</td>\n",
              "      <td>A</td>\n",
              "      <td>NaN</td>\n",
              "    </tr>\n",
              "    <tr>\n",
              "      <th>4</th>\n",
              "      <td>pothole_image_10087</td>\n",
              "      <td>1</td>\n",
              "      <td>2</td>\n",
              "      <td>A</td>\n",
              "      <td>NaN</td>\n",
              "    </tr>\n",
              "    <tr>\n",
              "      <th>5</th>\n",
              "      <td>pothole_image_10110</td>\n",
              "      <td>1</td>\n",
              "      <td>1</td>\n",
              "      <td>A</td>\n",
              "      <td>NaN</td>\n",
              "    </tr>\n",
              "    <tr>\n",
              "      <th>6</th>\n",
              "      <td>pothole_image_10119</td>\n",
              "      <td>1</td>\n",
              "      <td>1</td>\n",
              "      <td>A</td>\n",
              "      <td>NaN</td>\n",
              "    </tr>\n",
              "    <tr>\n",
              "      <th>7</th>\n",
              "      <td>pothole_image_10120</td>\n",
              "      <td>1</td>\n",
              "      <td>1</td>\n",
              "      <td>A</td>\n",
              "      <td>NaN</td>\n",
              "    </tr>\n",
              "    <tr>\n",
              "      <th>8</th>\n",
              "      <td>pothole_image_10135</td>\n",
              "      <td>1</td>\n",
              "      <td>1</td>\n",
              "      <td>A</td>\n",
              "      <td>NaN</td>\n",
              "    </tr>\n",
              "    <tr>\n",
              "      <th>9</th>\n",
              "      <td>pothole_image_10139</td>\n",
              "      <td>1</td>\n",
              "      <td>1</td>\n",
              "      <td>A</td>\n",
              "      <td>NaN</td>\n",
              "    </tr>\n",
              "  </tbody>\n",
              "</table>\n",
              "</div>\n",
              "      <button class=\"colab-df-convert\" onclick=\"convertToInteractive('df-709267da-5f9a-441d-8f43-19bb3a09c025')\"\n",
              "              title=\"Convert this dataframe to an interactive table.\"\n",
              "              style=\"display:none;\">\n",
              "        \n",
              "  <svg xmlns=\"http://www.w3.org/2000/svg\" height=\"24px\"viewBox=\"0 0 24 24\"\n",
              "       width=\"24px\">\n",
              "    <path d=\"M0 0h24v24H0V0z\" fill=\"none\"/>\n",
              "    <path d=\"M18.56 5.44l.94 2.06.94-2.06 2.06-.94-2.06-.94-.94-2.06-.94 2.06-2.06.94zm-11 1L8.5 8.5l.94-2.06 2.06-.94-2.06-.94L8.5 2.5l-.94 2.06-2.06.94zm10 10l.94 2.06.94-2.06 2.06-.94-2.06-.94-.94-2.06-.94 2.06-2.06.94z\"/><path d=\"M17.41 7.96l-1.37-1.37c-.4-.4-.92-.59-1.43-.59-.52 0-1.04.2-1.43.59L10.3 9.45l-7.72 7.72c-.78.78-.78 2.05 0 2.83L4 21.41c.39.39.9.59 1.41.59.51 0 1.02-.2 1.41-.59l7.78-7.78 2.81-2.81c.8-.78.8-2.07 0-2.86zM5.41 20L4 18.59l7.72-7.72 1.47 1.35L5.41 20z\"/>\n",
              "  </svg>\n",
              "      </button>\n",
              "      \n",
              "  <style>\n",
              "    .colab-df-container {\n",
              "      display:flex;\n",
              "      flex-wrap:wrap;\n",
              "      gap: 12px;\n",
              "    }\n",
              "\n",
              "    .colab-df-convert {\n",
              "      background-color: #E8F0FE;\n",
              "      border: none;\n",
              "      border-radius: 50%;\n",
              "      cursor: pointer;\n",
              "      display: none;\n",
              "      fill: #1967D2;\n",
              "      height: 32px;\n",
              "      padding: 0 0 0 0;\n",
              "      width: 32px;\n",
              "    }\n",
              "\n",
              "    .colab-df-convert:hover {\n",
              "      background-color: #E2EBFA;\n",
              "      box-shadow: 0px 1px 2px rgba(60, 64, 67, 0.3), 0px 1px 3px 1px rgba(60, 64, 67, 0.15);\n",
              "      fill: #174EA6;\n",
              "    }\n",
              "\n",
              "    [theme=dark] .colab-df-convert {\n",
              "      background-color: #3B4455;\n",
              "      fill: #D2E3FC;\n",
              "    }\n",
              "\n",
              "    [theme=dark] .colab-df-convert:hover {\n",
              "      background-color: #434B5C;\n",
              "      box-shadow: 0px 1px 3px 1px rgba(0, 0, 0, 0.15);\n",
              "      filter: drop-shadow(0px 1px 2px rgba(0, 0, 0, 0.3));\n",
              "      fill: #FFFFFF;\n",
              "    }\n",
              "  </style>\n",
              "\n",
              "      <script>\n",
              "        const buttonEl =\n",
              "          document.querySelector('#df-709267da-5f9a-441d-8f43-19bb3a09c025 button.colab-df-convert');\n",
              "        buttonEl.style.display =\n",
              "          google.colab.kernel.accessAllowed ? 'block' : 'none';\n",
              "\n",
              "        async function convertToInteractive(key) {\n",
              "          const element = document.querySelector('#df-709267da-5f9a-441d-8f43-19bb3a09c025');\n",
              "          const dataTable =\n",
              "            await google.colab.kernel.invokeFunction('convertToInteractive',\n",
              "                                                     [key], {});\n",
              "          if (!dataTable) return;\n",
              "\n",
              "          const docLinkHtml = 'Like what you see? Visit the ' +\n",
              "            '<a target=\"_blank\" href=https://colab.research.google.com/notebooks/data_table.ipynb>data table notebook</a>'\n",
              "            + ' to learn more about interactive tables.';\n",
              "          element.innerHTML = '';\n",
              "          dataTable['output_type'] = 'display_data';\n",
              "          await google.colab.output.renderOutput(dataTable, element);\n",
              "          const docLink = document.createElement('div');\n",
              "          docLink.innerHTML = docLinkHtml;\n",
              "          element.appendChild(docLink);\n",
              "        }\n",
              "      </script>\n",
              "    </div>\n",
              "  </div>\n",
              "  "
            ]
          },
          "metadata": {},
          "execution_count": 2
        }
      ]
    },
    {
      "cell_type": "code",
      "source": [
        "features.isna().sum()"
      ],
      "metadata": {
        "colab": {
          "base_uri": "https://localhost:8080/"
        },
        "id": "DFVSPuZFm8Ex",
        "outputId": "4053a617-ba8f-4be2-f2c3-4b567d465d16"
      },
      "execution_count": 3,
      "outputs": [
        {
          "output_type": "execute_result",
          "data": {
            "text/plain": [
              "Image ID                  0\n",
              "Pothole                   0\n",
              "Number of Potholes        0\n",
              "Level                     0\n",
              "Unnamed: 4            30000\n",
              "dtype: int64"
            ]
          },
          "metadata": {},
          "execution_count": 3
        }
      ]
    },
    {
      "cell_type": "code",
      "source": [
        "features = features.drop('Unnamed: 4', axis = 1)"
      ],
      "metadata": {
        "id": "E-HnvxGFnFeC"
      },
      "execution_count": 4,
      "outputs": []
    },
    {
      "cell_type": "code",
      "source": [
        "features.head(10)"
      ],
      "metadata": {
        "colab": {
          "base_uri": "https://localhost:8080/",
          "height": 363
        },
        "id": "2bb-uXLT2CSX",
        "outputId": "2b0614ea-7a7d-4e50-a2ba-d926288434ab"
      },
      "execution_count": 5,
      "outputs": [
        {
          "output_type": "execute_result",
          "data": {
            "text/plain": [
              "              Image ID  Pothole  Number of Potholes Level\n",
              "0   pothole_image_1299        1                   3     B\n",
              "1  pothole_image_10064        1                   1     A\n",
              "2  pothole_image_10079        1                   1     A\n",
              "3  pothole_image_10084        1                   1     A\n",
              "4  pothole_image_10087        1                   2     A\n",
              "5  pothole_image_10110        1                   1     A\n",
              "6  pothole_image_10119        1                   1     A\n",
              "7  pothole_image_10120        1                   1     A\n",
              "8  pothole_image_10135        1                   1     A\n",
              "9  pothole_image_10139        1                   1     A"
            ],
            "text/html": [
              "\n",
              "  <div id=\"df-1b7e6551-518e-4f7f-af9a-f5d047f970a4\">\n",
              "    <div class=\"colab-df-container\">\n",
              "      <div>\n",
              "<style scoped>\n",
              "    .dataframe tbody tr th:only-of-type {\n",
              "        vertical-align: middle;\n",
              "    }\n",
              "\n",
              "    .dataframe tbody tr th {\n",
              "        vertical-align: top;\n",
              "    }\n",
              "\n",
              "    .dataframe thead th {\n",
              "        text-align: right;\n",
              "    }\n",
              "</style>\n",
              "<table border=\"1\" class=\"dataframe\">\n",
              "  <thead>\n",
              "    <tr style=\"text-align: right;\">\n",
              "      <th></th>\n",
              "      <th>Image ID</th>\n",
              "      <th>Pothole</th>\n",
              "      <th>Number of Potholes</th>\n",
              "      <th>Level</th>\n",
              "    </tr>\n",
              "  </thead>\n",
              "  <tbody>\n",
              "    <tr>\n",
              "      <th>0</th>\n",
              "      <td>pothole_image_1299</td>\n",
              "      <td>1</td>\n",
              "      <td>3</td>\n",
              "      <td>B</td>\n",
              "    </tr>\n",
              "    <tr>\n",
              "      <th>1</th>\n",
              "      <td>pothole_image_10064</td>\n",
              "      <td>1</td>\n",
              "      <td>1</td>\n",
              "      <td>A</td>\n",
              "    </tr>\n",
              "    <tr>\n",
              "      <th>2</th>\n",
              "      <td>pothole_image_10079</td>\n",
              "      <td>1</td>\n",
              "      <td>1</td>\n",
              "      <td>A</td>\n",
              "    </tr>\n",
              "    <tr>\n",
              "      <th>3</th>\n",
              "      <td>pothole_image_10084</td>\n",
              "      <td>1</td>\n",
              "      <td>1</td>\n",
              "      <td>A</td>\n",
              "    </tr>\n",
              "    <tr>\n",
              "      <th>4</th>\n",
              "      <td>pothole_image_10087</td>\n",
              "      <td>1</td>\n",
              "      <td>2</td>\n",
              "      <td>A</td>\n",
              "    </tr>\n",
              "    <tr>\n",
              "      <th>5</th>\n",
              "      <td>pothole_image_10110</td>\n",
              "      <td>1</td>\n",
              "      <td>1</td>\n",
              "      <td>A</td>\n",
              "    </tr>\n",
              "    <tr>\n",
              "      <th>6</th>\n",
              "      <td>pothole_image_10119</td>\n",
              "      <td>1</td>\n",
              "      <td>1</td>\n",
              "      <td>A</td>\n",
              "    </tr>\n",
              "    <tr>\n",
              "      <th>7</th>\n",
              "      <td>pothole_image_10120</td>\n",
              "      <td>1</td>\n",
              "      <td>1</td>\n",
              "      <td>A</td>\n",
              "    </tr>\n",
              "    <tr>\n",
              "      <th>8</th>\n",
              "      <td>pothole_image_10135</td>\n",
              "      <td>1</td>\n",
              "      <td>1</td>\n",
              "      <td>A</td>\n",
              "    </tr>\n",
              "    <tr>\n",
              "      <th>9</th>\n",
              "      <td>pothole_image_10139</td>\n",
              "      <td>1</td>\n",
              "      <td>1</td>\n",
              "      <td>A</td>\n",
              "    </tr>\n",
              "  </tbody>\n",
              "</table>\n",
              "</div>\n",
              "      <button class=\"colab-df-convert\" onclick=\"convertToInteractive('df-1b7e6551-518e-4f7f-af9a-f5d047f970a4')\"\n",
              "              title=\"Convert this dataframe to an interactive table.\"\n",
              "              style=\"display:none;\">\n",
              "        \n",
              "  <svg xmlns=\"http://www.w3.org/2000/svg\" height=\"24px\"viewBox=\"0 0 24 24\"\n",
              "       width=\"24px\">\n",
              "    <path d=\"M0 0h24v24H0V0z\" fill=\"none\"/>\n",
              "    <path d=\"M18.56 5.44l.94 2.06.94-2.06 2.06-.94-2.06-.94-.94-2.06-.94 2.06-2.06.94zm-11 1L8.5 8.5l.94-2.06 2.06-.94-2.06-.94L8.5 2.5l-.94 2.06-2.06.94zm10 10l.94 2.06.94-2.06 2.06-.94-2.06-.94-.94-2.06-.94 2.06-2.06.94z\"/><path d=\"M17.41 7.96l-1.37-1.37c-.4-.4-.92-.59-1.43-.59-.52 0-1.04.2-1.43.59L10.3 9.45l-7.72 7.72c-.78.78-.78 2.05 0 2.83L4 21.41c.39.39.9.59 1.41.59.51 0 1.02-.2 1.41-.59l7.78-7.78 2.81-2.81c.8-.78.8-2.07 0-2.86zM5.41 20L4 18.59l7.72-7.72 1.47 1.35L5.41 20z\"/>\n",
              "  </svg>\n",
              "      </button>\n",
              "      \n",
              "  <style>\n",
              "    .colab-df-container {\n",
              "      display:flex;\n",
              "      flex-wrap:wrap;\n",
              "      gap: 12px;\n",
              "    }\n",
              "\n",
              "    .colab-df-convert {\n",
              "      background-color: #E8F0FE;\n",
              "      border: none;\n",
              "      border-radius: 50%;\n",
              "      cursor: pointer;\n",
              "      display: none;\n",
              "      fill: #1967D2;\n",
              "      height: 32px;\n",
              "      padding: 0 0 0 0;\n",
              "      width: 32px;\n",
              "    }\n",
              "\n",
              "    .colab-df-convert:hover {\n",
              "      background-color: #E2EBFA;\n",
              "      box-shadow: 0px 1px 2px rgba(60, 64, 67, 0.3), 0px 1px 3px 1px rgba(60, 64, 67, 0.15);\n",
              "      fill: #174EA6;\n",
              "    }\n",
              "\n",
              "    [theme=dark] .colab-df-convert {\n",
              "      background-color: #3B4455;\n",
              "      fill: #D2E3FC;\n",
              "    }\n",
              "\n",
              "    [theme=dark] .colab-df-convert:hover {\n",
              "      background-color: #434B5C;\n",
              "      box-shadow: 0px 1px 3px 1px rgba(0, 0, 0, 0.15);\n",
              "      filter: drop-shadow(0px 1px 2px rgba(0, 0, 0, 0.3));\n",
              "      fill: #FFFFFF;\n",
              "    }\n",
              "  </style>\n",
              "\n",
              "      <script>\n",
              "        const buttonEl =\n",
              "          document.querySelector('#df-1b7e6551-518e-4f7f-af9a-f5d047f970a4 button.colab-df-convert');\n",
              "        buttonEl.style.display =\n",
              "          google.colab.kernel.accessAllowed ? 'block' : 'none';\n",
              "\n",
              "        async function convertToInteractive(key) {\n",
              "          const element = document.querySelector('#df-1b7e6551-518e-4f7f-af9a-f5d047f970a4');\n",
              "          const dataTable =\n",
              "            await google.colab.kernel.invokeFunction('convertToInteractive',\n",
              "                                                     [key], {});\n",
              "          if (!dataTable) return;\n",
              "\n",
              "          const docLinkHtml = 'Like what you see? Visit the ' +\n",
              "            '<a target=\"_blank\" href=https://colab.research.google.com/notebooks/data_table.ipynb>data table notebook</a>'\n",
              "            + ' to learn more about interactive tables.';\n",
              "          element.innerHTML = '';\n",
              "          dataTable['output_type'] = 'display_data';\n",
              "          await google.colab.output.renderOutput(dataTable, element);\n",
              "          const docLink = document.createElement('div');\n",
              "          docLink.innerHTML = docLinkHtml;\n",
              "          element.appendChild(docLink);\n",
              "        }\n",
              "      </script>\n",
              "    </div>\n",
              "  </div>\n",
              "  "
            ]
          },
          "metadata": {},
          "execution_count": 5
        }
      ]
    },
    {
      "cell_type": "code",
      "source": [
        "features.isna().sum()"
      ],
      "metadata": {
        "colab": {
          "base_uri": "https://localhost:8080/"
        },
        "id": "UXRkxcOl2EwW",
        "outputId": "c74fc1c6-e4c8-464a-c7c4-d1126d8ca24e"
      },
      "execution_count": 6,
      "outputs": [
        {
          "output_type": "execute_result",
          "data": {
            "text/plain": [
              "Image ID              0\n",
              "Pothole               0\n",
              "Number of Potholes    0\n",
              "Level                 0\n",
              "dtype: int64"
            ]
          },
          "metadata": {},
          "execution_count": 6
        }
      ]
    },
    {
      "cell_type": "code",
      "source": [
        "all_image_names = features['Image ID']\n",
        "features = features.drop('Image ID', axis = 1)\n",
        "\n",
        "pothole_or_not = features['Pothole']\n",
        "pothole_info = features['Number of Potholes']\n",
        "pothole_level = features['Level']\n",
        "\n",
        "pothole_or_not = pd.get_dummies(pothole_or_not, columns = ['Pothole'])\n",
        "pothole_or_not.columns = ['Normal Road', 'Pothole']\n",
        "pothole_level = pd.get_dummies(pothole_level, columns = ['Level'])\n",
        "\n",
        "features = pothole_or_not.join(pothole_info)\n",
        "features = features.join(pothole_level)\n",
        "\n",
        "print(features.head(10))"
      ],
      "metadata": {
        "colab": {
          "base_uri": "https://localhost:8080/"
        },
        "id": "OhnJtc4F-IC2",
        "outputId": "8e59c80b-ea8d-40a5-badb-59d7962ad8a7"
      },
      "execution_count": 7,
      "outputs": [
        {
          "output_type": "stream",
          "name": "stdout",
          "text": [
            "   Normal Road  Pothole  Number of Potholes  A  B  C  S\n",
            "0            0        1                   3  0  1  0  0\n",
            "1            0        1                   1  1  0  0  0\n",
            "2            0        1                   1  1  0  0  0\n",
            "3            0        1                   1  1  0  0  0\n",
            "4            0        1                   2  1  0  0  0\n",
            "5            0        1                   1  1  0  0  0\n",
            "6            0        1                   1  1  0  0  0\n",
            "7            0        1                   1  1  0  0  0\n",
            "8            0        1                   1  1  0  0  0\n",
            "9            0        1                   1  1  0  0  0\n"
          ]
        }
      ]
    },
    {
      "cell_type": "code",
      "source": [
        "from sklearn.utils import shuffle\n",
        "\n",
        "image_names_shuffled, labels_shuffled = shuffle(all_image_names, features)"
      ],
      "metadata": {
        "id": "F2dq6N4H-H5x"
      },
      "execution_count": 8,
      "outputs": []
    },
    {
      "cell_type": "code",
      "source": [
        "from sklearn.model_selection import train_test_split\n",
        "\n",
        "X_train_image_names, X_test_image_names, y_train, y_test = train_test_split(\n",
        "    image_names_shuffled, labels_shuffled, test_size=0.3, random_state=1)"
      ],
      "metadata": {
        "id": "1j_72-_L-IJ_"
      },
      "execution_count": 9,
      "outputs": []
    },
    {
      "cell_type": "code",
      "source": [
        "train_pothole_or_not = y_train[['Normal Road', 'Pothole']]\n",
        "train_pothole_info = y_train['Number of Potholes']\n",
        "train_pothole_level = y_train[['A', 'B', 'C', 'S']]\n",
        "\n",
        "test_pothole_or_not = y_test[['Normal Road', 'Pothole']]\n",
        "test_pothole_info = y_test['Number of Potholes']\n",
        "test_pothole_level = y_test[['A', 'B', 'C', 'S']]"
      ],
      "metadata": {
        "id": "XG32217H-IHp"
      },
      "execution_count": 10,
      "outputs": []
    },
    {
      "cell_type": "code",
      "source": [
        "# train_pothole_or_not.head()\n",
        "# train_pothole_info.head()\n",
        "# train_pothole_level.head()\n",
        "\n",
        "# test_pothole_or_not.head()\n",
        "# test_pothole_info.head()\n",
        "# test_pothole_level.head()"
      ],
      "metadata": {
        "id": "k83Y2bnU2Hzv"
      },
      "execution_count": 11,
      "outputs": []
    },
    {
      "cell_type": "code",
      "source": [
        "import cv2\n",
        "\n",
        "def get_image(file_location):\n",
        "    img = cv2.imread(file_location)\n",
        "    img = cv2.cvtColor(img,cv2.COLOR_BGR2GRAY)\n",
        "    img = img/255\n",
        "    img = cv2.resize(img,(200, 200))\n",
        "    return img"
      ],
      "metadata": {
        "id": "g6cEmpAf49jV"
      },
      "execution_count": 12,
      "outputs": []
    },
    {
      "cell_type": "code",
      "source": [
        "import keras\n",
        "import numpy as np\n",
        "\n",
        "class My_Custom_Generator(keras.utils.all_utils.Sequence) :\n",
        "  \n",
        "  def __init__(self, image_filenames, labels, batch_size = 128) :\n",
        "    self.image_filenames = image_filenames\n",
        "    self.labels = labels\n",
        "    self.batch_size = batch_size\n",
        "    \n",
        "    \n",
        "  def __len__(self) :\n",
        "    return (np.ceil(len(self.image_filenames) / float(self.batch_size))).astype(np.int)\n",
        "  \n",
        "  \n",
        "  def __getitem__(self, idx) :\n",
        "    batch_x = self.image_filenames[idx * self.batch_size : (idx+1) * self.batch_size]\n",
        "    batch_y = []\n",
        "    # for raw in self.labels[idx * self.batch_size : (idx+1) * self.batch_size]:\n",
        "    #     temp = [raw[0:3], raw[3], raw[4:]]\n",
        "    #     batch_y.append(temp)\n",
        "    batch_y = self.labels[idx * self.batch_size : (idx+1) * self.batch_size]\n",
        "    \n",
        "    return np.array([\n",
        "            get_image(f'/content/Pothole-Detection/Unified Dataset/{str(file_name)}.jpg')\n",
        "               for file_name in batch_x]), np.array(batch_y)"
      ],
      "metadata": {
        "id": "kduuFCaW3j1o"
      },
      "execution_count": 13,
      "outputs": []
    },
    {
      "cell_type": "code",
      "source": [
        "batch_size = 30\n",
        "\n",
        "my_training_batch_generator = My_Custom_Generator(X_train_image_names, y_train, batch_size)\n",
        "my_validation_batch_generator = My_Custom_Generator(X_test_image_names, y_test, batch_size)"
      ],
      "metadata": {
        "id": "u9atomppSxXV"
      },
      "execution_count": 14,
      "outputs": []
    },
    {
      "cell_type": "code",
      "source": [
        "from keras.models import Sequential, Model\n",
        "from keras.layers import Dense, Flatten, Conv2D, MaxPooling2D, Dropout, Input, Activation, Add\n",
        "\n",
        "input_ = Input(shape = (200, 200, 1), name = \"Input Layer\")\n",
        "\n",
        "conv_1 = Conv2D(32, kernel_size = (4, 4), name = \"conv_1\")(input_)\n",
        "act_1 = Activation(\"relu\", name = \"act_1\")(conv_1)\n",
        "pool_1 = MaxPooling2D(pool_size = (4, 4), strides = (1, 1), padding = \"valid\", name = \"pool_1\")(act_1)\n",
        "\n",
        "conv_2 = Conv2D(128, kernel_size = (4, 4), name = \"conv_2\")(pool_1)\n",
        "act_2 = Activation(\"relu\", name = \"act_2\")(conv_2)\n",
        "pool_2 = MaxPooling2D(pool_size = (4, 4), strides = (1, 1), padding = \"valid\", name = \"pool_2\")(act_2)\n",
        "\n",
        "conv_3 = Conv2D(64, kernel_size = (2, 2), name = \"conv_3\")(pool_2)\n",
        "act_3 = Activation(\"relu\", name = \"act_3\")(conv_3)\n",
        "pool_3 = MaxPooling2D(pool_size = (2, 2), strides = (1, 1), padding = \"valid\", name = \"pool_3\")(act_3)\n",
        "\n",
        "flat_1 = Flatten(name = \"flat_1\")(pool_3)\n",
        "\n",
        "dense_1 = Dense(128, activation = \"relu\", name = \"dense_1\")(flat_1)\n",
        "dense_2 = Dense(64, activation = \"relu\", name = \"dense_2\")(dense_1)\n",
        "isPothole = Dense(2, activation = \"softmax\", name = \"pothole\")(dense_2)\n",
        "\n",
        "conv_4 = Conv2D(32, kernel_size = (2, 2), name = \"conv_4\")(pool_3)\n",
        "act_4 = Activation(\"relu\", name = \"act_4\")(conv_4)\n",
        "pool_4 = MaxPooling2D(pool_size = (2, 2), strides = (1, 1), padding = \"valid\", name = \"pool_4\")(act_4)\n",
        "\n",
        "flat_2 = Flatten(name = \"flat_2\")(pool_4)\n",
        "\n",
        "dense_3 = Dense(128, activation = \"relu\", name = \"dense_3\")(flat_2)\n",
        "\n",
        "add_1 = Add(name = \"add_1\")([dense_1, dense_3])\n",
        "\n",
        "dense_4 = Dense(64, activation = \"relu\", name = \"dense_4\")(add_1)\n",
        "pothole_num = Dense(1, activation = \"relu\", name = \"pothole_number\")(dense_4)\n",
        "\n",
        "conv_5 = Conv2D(16, kernel_size = (2, 2), name = \"conv_5\")(pool_4)\n",
        "act_5 = Activation(\"relu\", name = \"act_5\")(conv_5)\n",
        "pool_5 = MaxPooling2D(pool_size = (2, 2), strides = (1, 1), padding = \"valid\", name = \"pool_5\")(act_5)\n",
        "\n",
        "flat_3 = Flatten(name = \"flat_3\")(pool_5)\n",
        "\n",
        "dense_5 = Dense(128, activation = \"relu\", name = \"dense_9\")(flat_2)\n",
        "add_2 = Add(name = \"add_2\")([dense_1, dense_3, dense_5])\n",
        "dense_6 = Dense(64, activation = \"relu\", name = \"dense_12\")(add_2)\n",
        "dense_7 = Dense(32, activation = \"relu\", name = \"dense_13\")(dense_6)\n",
        "dense_8 = Dense(16, activation = \"relu\", name = \"dense_14\")(dense_7)\n",
        "pothole_level = Dense(4, activation = \"softmax\", name = \"pothole_level\")(dense_8)\n",
        "\n",
        "model = Model(inputs = input_, outputs = [isPothole, pothole_num, pothole_level])\n",
        "\n",
        "model.compile(\n",
        "              loss = {\n",
        "                  'pothole' : 'categorical_crossentropy',\n",
        "                  'pothole_number' : 'sparse_categorical_crossentropy',\n",
        "                  'pothole_level' : 'categorical_crossentropy'\n",
        "              },\n",
        "              optimizer = 'adam',\n",
        "              metrics = ['accuracy']\n",
        ")\n",
        "\n",
        "model.summary()"
      ],
      "metadata": {
        "colab": {
          "base_uri": "https://localhost:8080/"
        },
        "id": "j3oMzubsTJQU",
        "outputId": "f5574e23-bd12-4461-c00c-5a3560d720d0"
      },
      "execution_count": 15,
      "outputs": [
        {
          "output_type": "stream",
          "name": "stdout",
          "text": [
            "Model: \"model\"\n",
            "__________________________________________________________________________________________________\n",
            " Layer (type)                   Output Shape         Param #     Connected to                     \n",
            "==================================================================================================\n",
            " Input Layer (InputLayer)       [(None, 200, 200, 1  0           []                               \n",
            "                                )]                                                                \n",
            "                                                                                                  \n",
            " conv_1 (Conv2D)                (None, 197, 197, 32  544         ['Input Layer[0][0]']            \n",
            "                                )                                                                 \n",
            "                                                                                                  \n",
            " act_1 (Activation)             (None, 197, 197, 32  0           ['conv_1[0][0]']                 \n",
            "                                )                                                                 \n",
            "                                                                                                  \n",
            " pool_1 (MaxPooling2D)          (None, 194, 194, 32  0           ['act_1[0][0]']                  \n",
            "                                )                                                                 \n",
            "                                                                                                  \n",
            " conv_2 (Conv2D)                (None, 191, 191, 12  65664       ['pool_1[0][0]']                 \n",
            "                                8)                                                                \n",
            "                                                                                                  \n",
            " act_2 (Activation)             (None, 191, 191, 12  0           ['conv_2[0][0]']                 \n",
            "                                8)                                                                \n",
            "                                                                                                  \n",
            " pool_2 (MaxPooling2D)          (None, 188, 188, 12  0           ['act_2[0][0]']                  \n",
            "                                8)                                                                \n",
            "                                                                                                  \n",
            " conv_3 (Conv2D)                (None, 187, 187, 64  32832       ['pool_2[0][0]']                 \n",
            "                                )                                                                 \n",
            "                                                                                                  \n",
            " act_3 (Activation)             (None, 187, 187, 64  0           ['conv_3[0][0]']                 \n",
            "                                )                                                                 \n",
            "                                                                                                  \n",
            " pool_3 (MaxPooling2D)          (None, 186, 186, 64  0           ['act_3[0][0]']                  \n",
            "                                )                                                                 \n",
            "                                                                                                  \n",
            " conv_4 (Conv2D)                (None, 185, 185, 32  8224        ['pool_3[0][0]']                 \n",
            "                                )                                                                 \n",
            "                                                                                                  \n",
            " act_4 (Activation)             (None, 185, 185, 32  0           ['conv_4[0][0]']                 \n",
            "                                )                                                                 \n",
            "                                                                                                  \n",
            " pool_4 (MaxPooling2D)          (None, 184, 184, 32  0           ['act_4[0][0]']                  \n",
            "                                )                                                                 \n",
            "                                                                                                  \n",
            " flat_1 (Flatten)               (None, 2214144)      0           ['pool_3[0][0]']                 \n",
            "                                                                                                  \n",
            " flat_2 (Flatten)               (None, 1083392)      0           ['pool_4[0][0]']                 \n",
            "                                                                                                  \n",
            " dense_1 (Dense)                (None, 128)          283410560   ['flat_1[0][0]']                 \n",
            "                                                                                                  \n",
            " dense_3 (Dense)                (None, 128)          138674304   ['flat_2[0][0]']                 \n",
            "                                                                                                  \n",
            " dense_9 (Dense)                (None, 128)          138674304   ['flat_2[0][0]']                 \n",
            "                                                                                                  \n",
            " add_2 (Add)                    (None, 128)          0           ['dense_1[0][0]',                \n",
            "                                                                  'dense_3[0][0]',                \n",
            "                                                                  'dense_9[0][0]']                \n",
            "                                                                                                  \n",
            " dense_12 (Dense)               (None, 64)           8256        ['add_2[0][0]']                  \n",
            "                                                                                                  \n",
            " add_1 (Add)                    (None, 128)          0           ['dense_1[0][0]',                \n",
            "                                                                  'dense_3[0][0]']                \n",
            "                                                                                                  \n",
            " dense_13 (Dense)               (None, 32)           2080        ['dense_12[0][0]']               \n",
            "                                                                                                  \n",
            " dense_2 (Dense)                (None, 64)           8256        ['dense_1[0][0]']                \n",
            "                                                                                                  \n",
            " dense_4 (Dense)                (None, 64)           8256        ['add_1[0][0]']                  \n",
            "                                                                                                  \n",
            " dense_14 (Dense)               (None, 16)           528         ['dense_13[0][0]']               \n",
            "                                                                                                  \n",
            " pothole (Dense)                (None, 2)            130         ['dense_2[0][0]']                \n",
            "                                                                                                  \n",
            " pothole_number (Dense)         (None, 1)            65          ['dense_4[0][0]']                \n",
            "                                                                                                  \n",
            " pothole_level (Dense)          (None, 4)            68          ['dense_14[0][0]']               \n",
            "                                                                                                  \n",
            "==================================================================================================\n",
            "Total params: 560,894,071\n",
            "Trainable params: 560,894,071\n",
            "Non-trainable params: 0\n",
            "__________________________________________________________________________________________________\n"
          ]
        }
      ]
    },
    {
      "cell_type": "code",
      "source": [
        "keras.utils.all_utils.plot_model(model)"
      ],
      "metadata": {
        "colab": {
          "base_uri": "https://localhost:8080/",
          "height": 1000
        },
        "id": "YIeo01tcvYBr",
        "outputId": "56d606ea-f06e-4fed-97c7-1d21f93529c8"
      },
      "execution_count": 16,
      "outputs": [
        {
          "output_type": "execute_result",
          "data": {
            "text/plain": [
              "<IPython.core.display.Image object>"
            ],
            "image/png": "[encoded data removed]"
          },
          "metadata": {},
          "execution_count": 16
        }
      ]
    },
    {
      "cell_type": "code",
      "source": [
        "# class Logger(keras.callbacks.Callback):\n",
        "#   def on_epoch_end(self, epoch, logs=None):\n",
        "#     pothole_accuracy = logs.get('pothole_accuracy')\n",
        "#     pothole_number_accuracy = logs.get('pothole_number_accuracy')\n",
        "#     pothole_level_accuracy = logs.get('pothole_level_accuracy')\n",
        "\n",
        "#     val_pothole_accuracy = logs.get('val_pothole_accuracy')\n",
        "#     val_pothole_number_accuracy = logs.get('val_pothole_number_accuracy')\n",
        "#     val_pothole_level_accuracy = logs.get('val_pothole_level_accuracy')\n",
        "\n",
        "#     print('='*30, epoch + 1, '='*30)\n",
        "#     print(f'pothole_accuracy: {pothole_accuracy:.2f}, pothole_number_accuracy: {pothole_number_accuracy:.2f}, pothole_level_accuracy: {pothole_level_accuracy:.2f}')\n",
        "#     print(f'val_pothole_accuracy: {val_pothole_accuracy:.2f}, val_pothole_number_accuracy: {val_pothole_number_accuracy:.2f}, val_pothole_level_accuracy:{val_pothole_level_accuracy:.2f}')"
      ],
      "metadata": {
        "id": "YvDD2rbx4eUf"
      },
      "execution_count": 17,
      "outputs": []
    },
    {
      "cell_type": "code",
      "source": [
        "model.fit_generator(generator=my_training_batch_generator,\n",
        "                   steps_per_epoch = int(2100 // batch_size),\n",
        "                   epochs = 10,\n",
        "                   verbose = False,\n",
        "                   validation_data = my_validation_batch_generator,\n",
        "                #    callbacks = [\n",
        "                #                 Logger(),\n",
        "                #                 keras.callbacks.TensorBoard(log_dir = './logs')\n",
        "                #                 ],\n",
        "                   validation_steps = int(900 // batch_size))"
      ],
      "metadata": {
        "colab": {
          "base_uri": "https://localhost:8080/",
          "height": 1000
        },
        "id": "P3BLNzCo3Za5",
        "outputId": "d7838573-3c06-4ab7-c368-d6e5769f5b96"
      },
      "execution_count": 18,
      "outputs": [
        {
          "output_type": "stream",
          "name": "stderr",
          "text": [
            "/usr/local/lib/python3.7/dist-packages/ipykernel_launcher.py:10: UserWarning: `Model.fit_generator` is deprecated and will be removed in a future version. Please use `Model.fit`, which supports generators.\n",
            "  # Remove the CWD from sys.path while we load stuff.\n",
            "/usr/local/lib/python3.7/dist-packages/ipykernel_launcher.py:13: DeprecationWarning: `np.int` is a deprecated alias for the builtin `int`. To silence this warning, use `int` by itself. Doing this will not modify any behavior and is safe. When replacing `np.int`, you may wish to use e.g. `np.int64` or `np.int32` to specify the precision. If you wish to review your current use, check the release note link for additional information.\n",
            "Deprecated in NumPy 1.20; for more details and guidance: https://numpy.org/devdocs/release/1.20.0-notes.html#deprecations\n",
            "  del sys.path[0]\n"
          ]
        },
        {
          "output_type": "error",
          "ename": "InvalidArgumentError",
          "evalue": "ignored",
          "traceback": [
            "\u001b[0;31m---------------------------------------------------------------------------\u001b[0m",
            "\u001b[0;31mInvalidArgumentError\u001b[0m                      Traceback (most recent call last)",
            "\u001b[0;32m<ipython-input-18-ae976dc590aa>\u001b[0m in \u001b[0;36m<module>\u001b[0;34m()\u001b[0m\n\u001b[1;32m      8\u001b[0m                 \u001b[0;31m#                 keras.callbacks.TensorBoard(log_dir = './logs')\u001b[0m\u001b[0;34m\u001b[0m\u001b[0;34m\u001b[0m\u001b[0;34m\u001b[0m\u001b[0m\n\u001b[1;32m      9\u001b[0m                 \u001b[0;31m#                 ],\u001b[0m\u001b[0;34m\u001b[0m\u001b[0;34m\u001b[0m\u001b[0;34m\u001b[0m\u001b[0m\n\u001b[0;32m---> 10\u001b[0;31m                    validation_steps = int(900 // batch_size))\n\u001b[0m",
            "\u001b[0;32m/usr/local/lib/python3.7/dist-packages/keras/engine/training.py\u001b[0m in \u001b[0;36mfit_generator\u001b[0;34m(self, generator, steps_per_epoch, epochs, verbose, callbacks, validation_data, validation_steps, validation_freq, class_weight, max_queue_size, workers, use_multiprocessing, shuffle, initial_epoch)\u001b[0m\n\u001b[1;32m   2221\u001b[0m         \u001b[0muse_multiprocessing\u001b[0m\u001b[0;34m=\u001b[0m\u001b[0muse_multiprocessing\u001b[0m\u001b[0;34m,\u001b[0m\u001b[0;34m\u001b[0m\u001b[0;34m\u001b[0m\u001b[0m\n\u001b[1;32m   2222\u001b[0m         \u001b[0mshuffle\u001b[0m\u001b[0;34m=\u001b[0m\u001b[0mshuffle\u001b[0m\u001b[0;34m,\u001b[0m\u001b[0;34m\u001b[0m\u001b[0;34m\u001b[0m\u001b[0m\n\u001b[0;32m-> 2223\u001b[0;31m         initial_epoch=initial_epoch)\n\u001b[0m\u001b[1;32m   2224\u001b[0m \u001b[0;34m\u001b[0m\u001b[0m\n\u001b[1;32m   2225\u001b[0m   \u001b[0;34m@\u001b[0m\u001b[0mdoc_controls\u001b[0m\u001b[0;34m.\u001b[0m\u001b[0mdo_not_generate_docs\u001b[0m\u001b[0;34m\u001b[0m\u001b[0;34m\u001b[0m\u001b[0m\n",
            "\u001b[0;32m/usr/local/lib/python3.7/dist-packages/keras/utils/traceback_utils.py\u001b[0m in \u001b[0;36merror_handler\u001b[0;34m(*args, **kwargs)\u001b[0m\n\u001b[1;32m     65\u001b[0m     \u001b[0;32mexcept\u001b[0m \u001b[0mException\u001b[0m \u001b[0;32mas\u001b[0m \u001b[0me\u001b[0m\u001b[0;34m:\u001b[0m  \u001b[0;31m# pylint: disable=broad-except\u001b[0m\u001b[0;34m\u001b[0m\u001b[0;34m\u001b[0m\u001b[0m\n\u001b[1;32m     66\u001b[0m       \u001b[0mfiltered_tb\u001b[0m \u001b[0;34m=\u001b[0m \u001b[0m_process_traceback_frames\u001b[0m\u001b[0;34m(\u001b[0m\u001b[0me\u001b[0m\u001b[0;34m.\u001b[0m\u001b[0m__traceback__\u001b[0m\u001b[0;34m)\u001b[0m\u001b[0;34m\u001b[0m\u001b[0;34m\u001b[0m\u001b[0m\n\u001b[0;32m---> 67\u001b[0;31m       \u001b[0;32mraise\u001b[0m \u001b[0me\u001b[0m\u001b[0;34m.\u001b[0m\u001b[0mwith_traceback\u001b[0m\u001b[0;34m(\u001b[0m\u001b[0mfiltered_tb\u001b[0m\u001b[0;34m)\u001b[0m \u001b[0;32mfrom\u001b[0m \u001b[0;32mNone\u001b[0m\u001b[0;34m\u001b[0m\u001b[0;34m\u001b[0m\u001b[0m\n\u001b[0m\u001b[1;32m     68\u001b[0m     \u001b[0;32mfinally\u001b[0m\u001b[0;34m:\u001b[0m\u001b[0;34m\u001b[0m\u001b[0;34m\u001b[0m\u001b[0m\n\u001b[1;32m     69\u001b[0m       \u001b[0;32mdel\u001b[0m \u001b[0mfiltered_tb\u001b[0m\u001b[0;34m\u001b[0m\u001b[0;34m\u001b[0m\u001b[0m\n",
            "\u001b[0;32m/usr/local/lib/python3.7/dist-packages/tensorflow/python/eager/execute.py\u001b[0m in \u001b[0;36mquick_execute\u001b[0;34m(op_name, num_outputs, inputs, attrs, ctx, name)\u001b[0m\n\u001b[1;32m     53\u001b[0m     \u001b[0mctx\u001b[0m\u001b[0;34m.\u001b[0m\u001b[0mensure_initialized\u001b[0m\u001b[0;34m(\u001b[0m\u001b[0;34m)\u001b[0m\u001b[0;34m\u001b[0m\u001b[0;34m\u001b[0m\u001b[0m\n\u001b[1;32m     54\u001b[0m     tensors = pywrap_tfe.TFE_Py_Execute(ctx._handle, device_name, op_name,\n\u001b[0;32m---> 55\u001b[0;31m                                         inputs, attrs, num_outputs)\n\u001b[0m\u001b[1;32m     56\u001b[0m   \u001b[0;32mexcept\u001b[0m \u001b[0mcore\u001b[0m\u001b[0;34m.\u001b[0m\u001b[0m_NotOkStatusException\u001b[0m \u001b[0;32mas\u001b[0m \u001b[0me\u001b[0m\u001b[0;34m:\u001b[0m\u001b[0;34m\u001b[0m\u001b[0;34m\u001b[0m\u001b[0m\n\u001b[1;32m     57\u001b[0m     \u001b[0;32mif\u001b[0m \u001b[0mname\u001b[0m \u001b[0;32mis\u001b[0m \u001b[0;32mnot\u001b[0m \u001b[0;32mNone\u001b[0m\u001b[0;34m:\u001b[0m\u001b[0;34m\u001b[0m\u001b[0;34m\u001b[0m\u001b[0m\n",
            "\u001b[0;31mInvalidArgumentError\u001b[0m: Graph execution error:\n\nDetected at node 'categorical_crossentropy/softmax_cross_entropy_with_logits' defined at (most recent call last):\n    File \"/usr/lib/python3.7/runpy.py\", line 193, in _run_module_as_main\n      \"__main__\", mod_spec)\n    File \"/usr/lib/python3.7/runpy.py\", line 85, in _run_code\n      exec(code, run_globals)\n    File \"/usr/local/lib/python3.7/dist-packages/ipykernel_launcher.py\", line 16, in <module>\n      app.launch_new_instance()\n    File \"/usr/local/lib/python3.7/dist-packages/traitlets/config/application.py\", line 846, in launch_instance\n      app.start()\n    File \"/usr/local/lib/python3.7/dist-packages/ipykernel/kernelapp.py\", line 499, in start\n      self.io_loop.start()\n    File \"/usr/local/lib/python3.7/dist-packages/tornado/platform/asyncio.py\", line 132, in start\n      self.asyncio_loop.run_forever()\n    File \"/usr/lib/python3.7/asyncio/base_events.py\", line 541, in run_forever\n      self._run_once()\n    File \"/usr/lib/python3.7/asyncio/base_events.py\", line 1786, in _run_once\n      handle._run()\n    File \"/usr/lib/python3.7/asyncio/events.py\", line 88, in _run\n      self._context.run(self._callback, *self._args)\n    File \"/usr/local/lib/python3.7/dist-packages/tornado/ioloop.py\", line 758, in _run_callback\n      ret = callback()\n    File \"/usr/local/lib/python3.7/dist-packages/tornado/stack_context.py\", line 300, in null_wrapper\n      return fn(*args, **kwargs)\n    File \"/usr/local/lib/python3.7/dist-packages/zmq/eventloop/zmqstream.py\", line 661, in <lambda>\n      self.io_loop.add_callback(lambda: self._handle_events(self.socket, 0))\n    File \"/usr/local/lib/python3.7/dist-packages/zmq/eventloop/zmqstream.py\", line 577, in _handle_events\n      self._handle_recv()\n    File \"/usr/local/lib/python3.7/dist-packages/zmq/eventloop/zmqstream.py\", line 606, in _handle_recv\n      self._run_callback(callback, msg)\n    File \"/usr/local/lib/python3.7/dist-packages/zmq/eventloop/zmqstream.py\", line 556, in _run_callback\n      callback(*args, **kwargs)\n    File \"/usr/local/lib/python3.7/dist-packages/tornado/stack_context.py\", line 300, in null_wrapper\n      return fn(*args, **kwargs)\n    File \"/usr/local/lib/python3.7/dist-packages/ipykernel/kernelbase.py\", line 283, in dispatcher\n      return self.dispatch_shell(stream, msg)\n    File \"/usr/local/lib/python3.7/dist-packages/ipykernel/kernelbase.py\", line 233, in dispatch_shell\n      handler(stream, idents, msg)\n    File \"/usr/local/lib/python3.7/dist-packages/ipykernel/kernelbase.py\", line 399, in execute_request\n      user_expressions, allow_stdin)\n    File \"/usr/local/lib/python3.7/dist-packages/ipykernel/ipkernel.py\", line 208, in do_execute\n      res = shell.run_cell(code, store_history=store_history, silent=silent)\n    File \"/usr/local/lib/python3.7/dist-packages/ipykernel/zmqshell.py\", line 537, in run_cell\n      return super(ZMQInteractiveShell, self).run_cell(*args, **kwargs)\n    File \"/usr/local/lib/python3.7/dist-packages/IPython/core/interactiveshell.py\", line 2718, in run_cell\n      interactivity=interactivity, compiler=compiler, result=result)\n    File \"/usr/local/lib/python3.7/dist-packages/IPython/core/interactiveshell.py\", line 2828, in run_ast_nodes\n      if self.run_code(code, result):\n    File \"/usr/local/lib/python3.7/dist-packages/IPython/core/interactiveshell.py\", line 2882, in run_code\n      exec(code_obj, self.user_global_ns, self.user_ns)\n    File \"<ipython-input-18-ae976dc590aa>\", line 10, in <module>\n      validation_steps = int(900 // batch_size))\n    File \"/usr/local/lib/python3.7/dist-packages/keras/engine/training.py\", line 2223, in fit_generator\n      initial_epoch=initial_epoch)\n    File \"/usr/local/lib/python3.7/dist-packages/keras/utils/traceback_utils.py\", line 64, in error_handler\n      return fn(*args, **kwargs)\n    File \"/usr/local/lib/python3.7/dist-packages/keras/engine/training.py\", line 1384, in fit\n      tmp_logs = self.train_function(iterator)\n    File \"/usr/local/lib/python3.7/dist-packages/keras/engine/training.py\", line 1021, in train_function\n      return step_function(self, iterator)\n    File \"/usr/local/lib/python3.7/dist-packages/keras/engine/training.py\", line 1010, in step_function\n      outputs = model.distribute_strategy.run(run_step, args=(data,))\n    File \"/usr/local/lib/python3.7/dist-packages/keras/engine/training.py\", line 1000, in run_step\n      outputs = model.train_step(data)\n    File \"/usr/local/lib/python3.7/dist-packages/keras/engine/training.py\", line 860, in train_step\n      loss = self.compute_loss(x, y, y_pred, sample_weight)\n    File \"/usr/local/lib/python3.7/dist-packages/keras/engine/training.py\", line 919, in compute_loss\n      y, y_pred, sample_weight, regularization_losses=self.losses)\n    File \"/usr/local/lib/python3.7/dist-packages/keras/engine/compile_utils.py\", line 201, in __call__\n      loss_value = loss_obj(y_t, y_p, sample_weight=sw)\n    File \"/usr/local/lib/python3.7/dist-packages/keras/losses.py\", line 141, in __call__\n      losses = call_fn(y_true, y_pred)\n    File \"/usr/local/lib/python3.7/dist-packages/keras/losses.py\", line 245, in call\n      return ag_fn(y_true, y_pred, **self._fn_kwargs)\n    File \"/usr/local/lib/python3.7/dist-packages/keras/losses.py\", line 1790, in categorical_crossentropy\n      y_true, y_pred, from_logits=from_logits, axis=axis)\n    File \"/usr/local/lib/python3.7/dist-packages/keras/backend.py\", line 5099, in categorical_crossentropy\n      labels=target, logits=output, axis=axis)\nNode: 'categorical_crossentropy/softmax_cross_entropy_with_logits'\nlogits and labels must be broadcastable: logits_size=[30,2] labels_size=[30,7]\n\t [[{{node categorical_crossentropy/softmax_cross_entropy_with_logits}}]] [Op:__inference_train_function_2474]"
          ]
        }
      ]
    }
  ]
}